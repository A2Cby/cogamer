{
 "cells": [
  {
   "cell_type": "code",
   "id": "initial_id",
   "metadata": {
    "collapsed": true,
    "ExecuteTime": {
     "end_time": "2024-12-14T22:04:51.737881Z",
     "start_time": "2024-12-14T22:04:47.185469Z"
    }
   },
   "source": [
    "from google import genai\n",
    "from google.genai import types\n",
    "import dotenv\n",
    "import os\n",
    "dotenv.load_dotenv()\n",
    "\n",
    "client = genai.Client(api_key=os.getenv(\"GEMINI_API_KEY\"))\n",
    "\n",
    "response = client.models.generate_content(\n",
    "    model='gemini-2.0-flash-exp', contents='whats larger 4.11 or 4.9? in versions'\n",
    ")\n",
    "response.text"
   ],
   "outputs": [
    {
     "data": {
      "text/plain": [
       "'In versioning, **4.9 is larger than 4.11**.\\n\\nHere\\'s why:\\n\\nVersioning systems, especially when dealing with software or libraries, are usually read left to right. The numbers represent a hierarchical structure:\\n\\n*   **Major Version:** The first number (4 in both cases). A major version change usually implies significant changes.\\n*   **Minor Version:** The second number (11 in 4.11, and 9 in 4.9).\\n*   **Patch/Revision Number:** If present, would be a third number, and so on.\\n\\nThe rule is that you compare position by position. When you encounter a position where the numbers are different, the larger one determines which is \"larger\".\\n\\nLet\\'s compare:\\n\\n*   **4.x** : Major version is the same\\n*   **4.11** vs **4.9** : Comparing the next number after the decimal, 9 is greater than 1.\\n\\nTherefore, 4.9 is considered to be a later version than 4.11 because we compare the second numbers, not the absolute value.\\n\\n**Think of it this way:**\\n\\nImagine you have versions of a book:\\n*   Version 4.1 was the initial book.\\n*   Version 4.9 has 8 more revisions after the initial version\\n*   Version 4.11 has 10 more revisions after the initial version.\\n\\nIn this case, 4.9 is clearly the latest of the list.\\nIt also is not 4.10, which would be in between 4.9 and 4.11\\n\\n**Important Note:**\\n\\nThis is different from simple decimal comparisons. In terms of a pure numerical value, 4.11 is greater than 4.9. However, when we\\'re talking about versions, we don\\'t compare as pure numbers, we compare positionally as described above.\\n'"
      ]
     },
     "execution_count": 3,
     "metadata": {},
     "output_type": "execute_result"
    }
   ],
   "execution_count": 3
  },
  {
   "metadata": {
    "ExecuteTime": {
     "end_time": "2024-12-14T22:09:48.832788Z",
     "start_time": "2024-12-14T22:09:47.293210Z"
    }
   },
   "cell_type": "code",
   "source": [
    "from google import genai\n",
    "\n",
    "client = genai.Client(http_options={'api_version': 'v1alpha'}, api_key=os.getenv(\"GEMINI_API_KEY\"))\n",
    "model_id = \"gemini-2.0-flash-exp\"\n",
    "config = {\"response_modalities\": [\"TEXT\"]}\n",
    "\n",
    "async with client.aio.live.connect(model=model_id, config=config) as session:\n",
    "    message = \"Hello? Gemini, are you there?\"\n",
    "    print(\"> \", message, \"\\n\")\n",
    "    await session.send(message, end_of_turn=True)\n",
    "\n",
    "    async for response in session.receive():\n",
    "        print(response.text)"
   ],
   "id": "fb18de943e8c5812",
   "outputs": [
    {
     "name": "stdout",
     "output_type": "stream",
     "text": [
      ">  Hello? Gemini, are you there? \n",
      "\n",
      "Yes\n",
      ", I'm here! How can I help you today?\n",
      "\n",
      "None\n"
     ]
    }
   ],
   "execution_count": 5
  }
 ],
 "metadata": {
  "kernelspec": {
   "display_name": "Python 3",
   "language": "python",
   "name": "python3"
  },
  "language_info": {
   "codemirror_mode": {
    "name": "ipython",
    "version": 2
   },
   "file_extension": ".py",
   "mimetype": "text/x-python",
   "name": "python",
   "nbconvert_exporter": "python",
   "pygments_lexer": "ipython2",
   "version": "2.7.6"
  }
 },
 "nbformat": 4,
 "nbformat_minor": 5
}
